{
 "cells": [
  {
   "cell_type": "markdown",
   "execution_count": null,
   "metadata": {
    "papermill": {
     "duration": 0.008353,
     "end_time": "2020-08-20T10:36:33.240370",
     "exception": false,
     "start_time": "2020-08-20T10:36:33.232017",
     "status": "completed"
    },
    "tags": []
   },
   "source": [
    "**[Deep Learning Home Page](https://www.kaggle.com/learn/deep-learning)**\n",
    "\n",
    "---\n"
   ]
  },
  {
   "cell_type": "markdown",
   "execution_count": null,
   "metadata": {
    "papermill": {
     "duration": 0.006737,
     "end_time": "2020-08-20T10:36:33.254169",
     "exception": false,
     "start_time": "2020-08-20T10:36:33.247432",
     "status": "completed"
    },
    "tags": []
   },
   "source": [
    "# Introduction\n",
    "\n",
    "You've seen how to build a model from scratch to identify handwritten digits.  You'll now build a model to identify different types of clothing.  To make models that train quickly, we'll work with very small (low-resolution) images. \n",
    "\n",
    "As an example, your model will take an images like this and identify it as a shoe:\n",
    "\n",
    "![Imgur](https://i.imgur.com/GyXOnSB.png)"
   ]
  },
  {
   "cell_type": "markdown",
   "execution_count": null,
   "metadata": {
    "papermill": {
     "duration": 0.006513,
     "end_time": "2020-08-20T10:36:33.267791",
     "exception": false,
     "start_time": "2020-08-20T10:36:33.261278",
     "status": "completed"
    },
    "tags": []
   },
   "source": [
    "# Data Preparation\n",
    "This code is supplied, and you don't need to change it. Just run the cell below."
   ]
  },
  {
   "cell_type": "code",
   "execution_count": 1,
   "metadata": {
    "execution": {
     "iopub.execute_input": "2020-08-20T10:36:33.294754Z",
     "iopub.status.busy": "2020-08-20T10:36:33.293841Z",
     "iopub.status.idle": "2020-08-20T10:37:22.749554Z",
     "shell.execute_reply": "2020-08-20T10:37:22.750230Z"
    },
    "papermill": {
     "duration": 49.475545,
     "end_time": "2020-08-20T10:37:22.750420",
     "exception": false,
     "start_time": "2020-08-20T10:36:33.274875",
     "status": "completed"
    },
    "tags": []
   },
   "outputs": [
    {
     "name": "stdout",
     "output_type": "stream",
     "text": [
      "Using TensorFlow version 2.3.0\n",
      "Setup Complete\n"
     ]
    }
   ],
   "source": [
    "import numpy as np\n",
    "from sklearn.model_selection import train_test_split\n",
    "from tensorflow import keras\n",
    "\n",
    "img_rows, img_cols = 28, 28\n",
    "num_classes = 10\n",
    "\n",
    "def prep_data(raw):\n",
    "    y = raw[:, 0]\n",
    "    out_y = keras.utils.to_categorical(y, num_classes)\n",
    "    \n",
    "    x = raw[:,1:]\n",
    "    num_images = raw.shape[0]\n",
    "    out_x = x.reshape(num_images, img_rows, img_cols, 1)\n",
    "    out_x = out_x / 255\n",
    "    return out_x, out_y\n",
    "\n",
    "fashion_file = \"../input/fashionmnist/fashion-mnist_train.csv\"\n",
    "fashion_data = np.loadtxt(fashion_file, skiprows=1, delimiter=',')\n",
    "x, y = prep_data(fashion_data)\n",
    "\n",
    "# Set up code checking\n",
    "from learntools.core import binder\n",
    "binder.bind(globals())\n",
    "from learntools.deep_learning.exercise_7 import *\n",
    "print(\"Setup Complete\")"
   ]
  },
  {
   "cell_type": "markdown",
   "execution_count": null,
   "metadata": {
    "papermill": {
     "duration": 0.006714,
     "end_time": "2020-08-20T10:37:22.765905",
     "exception": false,
     "start_time": "2020-08-20T10:37:22.759191",
     "status": "completed"
    },
    "tags": []
   },
   "source": [
    "# 1) Start the model\n",
    "Create a `Sequential` model called `fashion_model`. Don't add layers yet."
   ]
  },
  {
   "cell_type": "code",
   "execution_count": 2,
   "metadata": {
    "execution": {
     "iopub.execute_input": "2020-08-20T10:37:22.787192Z",
     "iopub.status.busy": "2020-08-20T10:37:22.786277Z",
     "iopub.status.idle": "2020-08-20T10:37:25.815714Z",
     "shell.execute_reply": "2020-08-20T10:37:25.814685Z"
    },
    "papermill": {
     "duration": 3.042812,
     "end_time": "2020-08-20T10:37:25.815847",
     "exception": false,
     "start_time": "2020-08-20T10:37:22.773035",
     "status": "completed"
    },
    "tags": []
   },
   "outputs": [
    {
     "data": {
      "application/javascript": [
       "parent.postMessage({\"jupyterEvent\": \"custom.exercise_interaction\", \"data\": {\"outcomeType\": 1, \"valueTowardsCompletion\": 0.16666666666666666, \"interactionType\": 1, \"questionType\": 2, \"questionId\": \"1_StartSequentialModel\", \"learnToolsVersion\": \"0.3.4\", \"failureMessage\": \"\", \"exceptionClass\": \"\", \"trace\": \"\"}}, \"*\")"
      ],
      "text/plain": [
       "<IPython.core.display.Javascript object>"
      ]
     },
     "metadata": {},
     "output_type": "display_data"
    },
    {
     "data": {
      "text/markdown": [
       "<span style=\"color:#33cc33\">Correct</span>"
      ],
      "text/plain": [
       "Correct"
      ]
     },
     "metadata": {},
     "output_type": "display_data"
    }
   ],
   "source": [
    "from tensorflow import keras\n",
    "from tensorflow.keras.models import Sequential\n",
    "from tensorflow.keras.layers import Dense, Flatten, Conv2D\n",
    "\n",
    "# Your Code Here\n",
    "fashion_model = Sequential()\n",
    "\n",
    "# Check your answer\n",
    "q_1.check()"
   ]
  },
  {
   "cell_type": "code",
   "execution_count": 3,
   "metadata": {
    "execution": {
     "iopub.execute_input": "2020-08-20T10:37:25.836817Z",
     "iopub.status.busy": "2020-08-20T10:37:25.835674Z",
     "iopub.status.idle": "2020-08-20T10:37:25.838747Z",
     "shell.execute_reply": "2020-08-20T10:37:25.838005Z"
    },
    "papermill": {
     "duration": 0.015595,
     "end_time": "2020-08-20T10:37:25.838870",
     "exception": false,
     "start_time": "2020-08-20T10:37:25.823275",
     "status": "completed"
    },
    "tags": []
   },
   "outputs": [],
   "source": [
    "#q_1.solution()"
   ]
  },
  {
   "cell_type": "markdown",
   "execution_count": null,
   "metadata": {
    "papermill": {
     "duration": 0.007159,
     "end_time": "2020-08-20T10:37:25.853762",
     "exception": false,
     "start_time": "2020-08-20T10:37:25.846603",
     "status": "completed"
    },
    "tags": []
   },
   "source": [
    "# 2) Add the first layer\n",
    "\n",
    "Add the first `Conv2D` layer to `fashion_model`. It should have 12 filters, a kernel_size of 3 and the `relu` activation function. The first layer always requires that you specify the `input_shape`.  We have saved the number of rows and columns to the variables `img_rows` and `img_cols` respectively, so the input shape in this case is `(img_rows, img_cols, 1)`."
   ]
  },
  {
   "cell_type": "code",
   "execution_count": 4,
   "metadata": {
    "execution": {
     "iopub.execute_input": "2020-08-20T10:37:25.882364Z",
     "iopub.status.busy": "2020-08-20T10:37:25.881474Z",
     "iopub.status.idle": "2020-08-20T10:37:25.942271Z",
     "shell.execute_reply": "2020-08-20T10:37:25.942836Z"
    },
    "papermill": {
     "duration": 0.081697,
     "end_time": "2020-08-20T10:37:25.943008",
     "exception": false,
     "start_time": "2020-08-20T10:37:25.861311",
     "status": "completed"
    },
    "tags": []
   },
   "outputs": [
    {
     "data": {
      "application/javascript": [
       "parent.postMessage({\"jupyterEvent\": \"custom.exercise_interaction\", \"data\": {\"outcomeType\": 1, \"valueTowardsCompletion\": 0.16666666666666666, \"interactionType\": 1, \"questionType\": 2, \"questionId\": \"2_AddFirstLayer\", \"learnToolsVersion\": \"0.3.4\", \"failureMessage\": \"\", \"exceptionClass\": \"\", \"trace\": \"\"}}, \"*\")"
      ],
      "text/plain": [
       "<IPython.core.display.Javascript object>"
      ]
     },
     "metadata": {},
     "output_type": "display_data"
    },
    {
     "data": {
      "text/markdown": [
       "<span style=\"color:#33cc33\">Correct</span>"
      ],
      "text/plain": [
       "Correct"
      ]
     },
     "metadata": {},
     "output_type": "display_data"
    }
   ],
   "source": [
    "# Your code here\n",
    "fashion_model.add(Conv2D(12, kernel_size=(3, 3),\n",
    "                 activation='relu',\n",
    "                 input_shape=(img_rows, img_cols, 1)) )\n",
    "\n",
    "# Check your answer\n",
    "q_2.check()"
   ]
  },
  {
   "cell_type": "code",
   "execution_count": 5,
   "metadata": {
    "execution": {
     "iopub.execute_input": "2020-08-20T10:37:25.963870Z",
     "iopub.status.busy": "2020-08-20T10:37:25.962976Z",
     "iopub.status.idle": "2020-08-20T10:37:25.967093Z",
     "shell.execute_reply": "2020-08-20T10:37:25.966474Z"
    },
    "papermill": {
     "duration": 0.016056,
     "end_time": "2020-08-20T10:37:25.967218",
     "exception": false,
     "start_time": "2020-08-20T10:37:25.951162",
     "status": "completed"
    },
    "tags": []
   },
   "outputs": [],
   "source": [
    "# q_2.hint()\n",
    "#q_2.solution()"
   ]
  },
  {
   "cell_type": "markdown",
   "execution_count": null,
   "metadata": {
    "papermill": {
     "duration": 0.007811,
     "end_time": "2020-08-20T10:37:25.983334",
     "exception": false,
     "start_time": "2020-08-20T10:37:25.975523",
     "status": "completed"
    },
    "tags": []
   },
   "source": [
    "# 3) Add the remaining layers\n",
    "\n",
    "1. Add 2 more convolutional (`Conv2D layers`) with 20 filters each, 'relu' activation, and a kernel size of 3. Follow that with a `Flatten` layer, and then a `Dense` layer with 100 neurons. \n",
    "2. Add your prediction layer to `fashion_model`.  This is a `Dense` layer.  We alrady have a variable called `num_classes`.  Use this variable when specifying the number of nodes in this layer. The activation should be `softmax` (or you will have problems later)."
   ]
  },
  {
   "cell_type": "code",
   "execution_count": 6,
   "metadata": {
    "execution": {
     "iopub.execute_input": "2020-08-20T10:37:26.011902Z",
     "iopub.status.busy": "2020-08-20T10:37:26.010804Z",
     "iopub.status.idle": "2020-08-20T10:37:26.058817Z",
     "shell.execute_reply": "2020-08-20T10:37:26.059336Z"
    },
    "papermill": {
     "duration": 0.068186,
     "end_time": "2020-08-20T10:37:26.059532",
     "exception": false,
     "start_time": "2020-08-20T10:37:25.991346",
     "status": "completed"
    },
    "tags": []
   },
   "outputs": [
    {
     "data": {
      "application/javascript": [
       "parent.postMessage({\"jupyterEvent\": \"custom.exercise_interaction\", \"data\": {\"outcomeType\": 1, \"valueTowardsCompletion\": 0.16666666666666666, \"interactionType\": 1, \"questionType\": 2, \"questionId\": \"3_AddMoreLayers\", \"learnToolsVersion\": \"0.3.4\", \"failureMessage\": \"\", \"exceptionClass\": \"\", \"trace\": \"\"}}, \"*\")"
      ],
      "text/plain": [
       "<IPython.core.display.Javascript object>"
      ]
     },
     "metadata": {},
     "output_type": "display_data"
    },
    {
     "data": {
      "text/markdown": [
       "<span style=\"color:#33cc33\">Correct</span>"
      ],
      "text/plain": [
       "Correct"
      ]
     },
     "metadata": {},
     "output_type": "display_data"
    }
   ],
   "source": [
    "# Your code here\n",
    "fashion_model.add(Conv2D(20, kernel_size=(3, 3),\n",
    "                 activation='relu'))\n",
    "\n",
    "fashion_model.add(Conv2D(20, kernel_size=(3, 3),\n",
    "                 activation='relu'))\n",
    "\n",
    "fashion_model.add(Flatten())\n",
    "\n",
    "fashion_model.add(Dense(100, activation='relu'))\n",
    "\n",
    "fashion_model.add(Dense(num_classes, activation='softmax'))\n",
    "\n",
    "# Check your answer\n",
    "q_3.check()"
   ]
  },
  {
   "cell_type": "code",
   "execution_count": 7,
   "metadata": {
    "execution": {
     "iopub.execute_input": "2020-08-20T10:37:26.080949Z",
     "iopub.status.busy": "2020-08-20T10:37:26.080082Z",
     "iopub.status.idle": "2020-08-20T10:37:26.084128Z",
     "shell.execute_reply": "2020-08-20T10:37:26.084643Z"
    },
    "papermill": {
     "duration": 0.017031,
     "end_time": "2020-08-20T10:37:26.084818",
     "exception": false,
     "start_time": "2020-08-20T10:37:26.067787",
     "status": "completed"
    },
    "tags": []
   },
   "outputs": [],
   "source": [
    "# q_3.solution()"
   ]
  },
  {
   "cell_type": "markdown",
   "execution_count": null,
   "metadata": {
    "papermill": {
     "duration": 0.008328,
     "end_time": "2020-08-20T10:37:26.101460",
     "exception": false,
     "start_time": "2020-08-20T10:37:26.093132",
     "status": "completed"
    },
    "tags": []
   },
   "source": [
    "# 4) Compile Your Model\n",
    "Compile fashion_model with the `compile` method.  Specify the following arguments:\n",
    "1. `loss = \"categorical_crossentropy\"`\n",
    "2. `optimizer = 'adam'`\n",
    "3. `metrics = ['accuracy']`"
   ]
  },
  {
   "cell_type": "code",
   "execution_count": 8,
   "metadata": {
    "execution": {
     "iopub.execute_input": "2020-08-20T10:37:26.132778Z",
     "iopub.status.busy": "2020-08-20T10:37:26.131651Z",
     "iopub.status.idle": "2020-08-20T10:37:26.144347Z",
     "shell.execute_reply": "2020-08-20T10:37:26.143739Z"
    },
    "papermill": {
     "duration": 0.034731,
     "end_time": "2020-08-20T10:37:26.144468",
     "exception": false,
     "start_time": "2020-08-20T10:37:26.109737",
     "status": "completed"
    },
    "tags": []
   },
   "outputs": [
    {
     "data": {
      "application/javascript": [
       "parent.postMessage({\"jupyterEvent\": \"custom.exercise_interaction\", \"data\": {\"outcomeType\": 1, \"valueTowardsCompletion\": 0.16666666666666666, \"interactionType\": 1, \"questionType\": 2, \"questionId\": \"4_CompileModel\", \"learnToolsVersion\": \"0.3.4\", \"failureMessage\": \"\", \"exceptionClass\": \"\", \"trace\": \"\"}}, \"*\")"
      ],
      "text/plain": [
       "<IPython.core.display.Javascript object>"
      ]
     },
     "metadata": {},
     "output_type": "display_data"
    },
    {
     "data": {
      "text/markdown": [
       "<span style=\"color:#33cc33\">Correct</span>"
      ],
      "text/plain": [
       "Correct"
      ]
     },
     "metadata": {},
     "output_type": "display_data"
    }
   ],
   "source": [
    "# Your code to compile the model in this cell\n",
    "fashion_model.compile(loss=keras.losses.categorical_crossentropy,\n",
    "              optimizer='adam',\n",
    "              metrics=['accuracy'])\n",
    "\n",
    "# Check your answer\n",
    "q_4.check()"
   ]
  },
  {
   "cell_type": "code",
   "execution_count": 9,
   "metadata": {
    "execution": {
     "iopub.execute_input": "2020-08-20T10:37:26.168798Z",
     "iopub.status.busy": "2020-08-20T10:37:26.166775Z",
     "iopub.status.idle": "2020-08-20T10:37:26.169682Z",
     "shell.execute_reply": "2020-08-20T10:37:26.170227Z"
    },
    "papermill": {
     "duration": 0.017325,
     "end_time": "2020-08-20T10:37:26.170380",
     "exception": false,
     "start_time": "2020-08-20T10:37:26.153055",
     "status": "completed"
    },
    "tags": []
   },
   "outputs": [],
   "source": [
    "# q_4.solution()"
   ]
  },
  {
   "cell_type": "markdown",
   "execution_count": null,
   "metadata": {
    "papermill": {
     "duration": 0.008476,
     "end_time": "2020-08-20T10:37:26.187552",
     "exception": false,
     "start_time": "2020-08-20T10:37:26.179076",
     "status": "completed"
    },
    "tags": []
   },
   "source": [
    "# 5) Fit The Model\n",
    "Run the command `fashion_model.fit`. The arguments you will use are\n",
    "1. The data used to fit the model. First comes the data holding the images, and second is the data with the class labels to be predicted. Look at the first code cell (which was supplied to you) where we called `prep_data` to find the variable names for these.\n",
    "2. `batch_size = 100`\n",
    "3. `epochs = 4`\n",
    "4. `validation_split = 0.2`\n",
    "\n",
    "When you run this command, you can watch your model start improving.  You will see validation accuracies after each epoch."
   ]
  },
  {
   "cell_type": "code",
   "execution_count": 10,
   "metadata": {
    "execution": {
     "iopub.execute_input": "2020-08-20T10:37:26.212064Z",
     "iopub.status.busy": "2020-08-20T10:37:26.211093Z",
     "iopub.status.idle": "2020-08-20T10:37:40.313926Z",
     "shell.execute_reply": "2020-08-20T10:37:40.314520Z"
    },
    "papermill": {
     "duration": 14.118408,
     "end_time": "2020-08-20T10:37:40.314690",
     "exception": false,
     "start_time": "2020-08-20T10:37:26.196282",
     "status": "completed"
    },
    "tags": []
   },
   "outputs": [
    {
     "name": "stdout",
     "output_type": "stream",
     "text": [
      "Epoch 1/4\n",
      "480/480 [==============================] - 3s 5ms/step - loss: 0.4814 - accuracy: 0.8264 - val_loss: 0.3584 - val_accuracy: 0.8762\n",
      "Epoch 2/4\n",
      "480/480 [==============================] - 2s 5ms/step - loss: 0.3045 - accuracy: 0.8886 - val_loss: 0.3099 - val_accuracy: 0.8890\n",
      "Epoch 3/4\n",
      "480/480 [==============================] - 2s 5ms/step - loss: 0.2500 - accuracy: 0.9081 - val_loss: 0.2787 - val_accuracy: 0.9002\n",
      "Epoch 4/4\n",
      "480/480 [==============================] - 2s 5ms/step - loss: 0.2084 - accuracy: 0.9224 - val_loss: 0.2634 - val_accuracy: 0.9077\n"
     ]
    },
    {
     "data": {
      "application/javascript": [
       "parent.postMessage({\"jupyterEvent\": \"custom.exercise_interaction\", \"data\": {\"outcomeType\": 1, \"valueTowardsCompletion\": 0.16666666666666666, \"interactionType\": 1, \"questionType\": 2, \"questionId\": \"5_FitFullDLModel\", \"learnToolsVersion\": \"0.3.4\", \"failureMessage\": \"\", \"exceptionClass\": \"\", \"trace\": \"\"}}, \"*\")"
      ],
      "text/plain": [
       "<IPython.core.display.Javascript object>"
      ]
     },
     "metadata": {},
     "output_type": "display_data"
    },
    {
     "data": {
      "text/markdown": [
       "<span style=\"color:#33cc33\">Correct</span>"
      ],
      "text/plain": [
       "Correct"
      ]
     },
     "metadata": {},
     "output_type": "display_data"
    }
   ],
   "source": [
    "# Your code to fit the model here\n",
    "fashion_model.fit(x, y,\n",
    "          batch_size=100,\n",
    "          epochs=4,\n",
    "          validation_split = 0.2)\n",
    "\n",
    "# Check your answer\n",
    "q_5.check()"
   ]
  },
  {
   "cell_type": "code",
   "execution_count": 11,
   "metadata": {
    "execution": {
     "iopub.execute_input": "2020-08-20T10:37:40.361311Z",
     "iopub.status.busy": "2020-08-20T10:37:40.359477Z",
     "iopub.status.idle": "2020-08-20T10:37:40.363006Z",
     "shell.execute_reply": "2020-08-20T10:37:40.363566Z"
    },
    "papermill": {
     "duration": 0.028766,
     "end_time": "2020-08-20T10:37:40.363742",
     "exception": false,
     "start_time": "2020-08-20T10:37:40.334976",
     "status": "completed"
    },
    "tags": []
   },
   "outputs": [],
   "source": [
    "#q_5.solution()"
   ]
  },
  {
   "cell_type": "markdown",
   "execution_count": null,
   "metadata": {
    "papermill": {
     "duration": 0.019272,
     "end_time": "2020-08-20T10:37:40.402724",
     "exception": false,
     "start_time": "2020-08-20T10:37:40.383452",
     "status": "completed"
    },
    "tags": []
   },
   "source": [
    "# 6) Create A New Model\n",
    "\n",
    "Create a new model called `second_fashion_model` in the cell below.  Make some changes so it is different than `fashion_model` that you've trained above. The change could be using a different number of layers, different number of convolutions in the layers, etc.\n",
    "\n",
    "Define the model, compile it and fit it in the cell below.  See how its validation score compares to that of the original model."
   ]
  },
  {
   "cell_type": "code",
   "execution_count": 12,
   "metadata": {
    "execution": {
     "iopub.execute_input": "2020-08-20T10:37:40.457075Z",
     "iopub.status.busy": "2020-08-20T10:37:40.455663Z",
     "iopub.status.idle": "2020-08-20T10:37:57.105439Z",
     "shell.execute_reply": "2020-08-20T10:37:57.102796Z"
    },
    "papermill": {
     "duration": 16.68369,
     "end_time": "2020-08-20T10:37:57.105648",
     "exception": false,
     "start_time": "2020-08-20T10:37:40.421958",
     "status": "completed"
    },
    "tags": []
   },
   "outputs": [
    {
     "name": "stdout",
     "output_type": "stream",
     "text": [
      "Epoch 1/6\n",
      "480/480 [==============================] - 3s 6ms/step - loss: 0.4930 - accuracy: 0.8212 - val_loss: 0.3558 - val_accuracy: 0.8711\n",
      "Epoch 2/6\n",
      "480/480 [==============================] - 3s 5ms/step - loss: 0.3094 - accuracy: 0.8861 - val_loss: 0.2993 - val_accuracy: 0.8937\n",
      "Epoch 3/6\n",
      "480/480 [==============================] - 2s 5ms/step - loss: 0.2551 - accuracy: 0.9050 - val_loss: 0.2651 - val_accuracy: 0.9058\n",
      "Epoch 4/6\n",
      "480/480 [==============================] - 2s 5ms/step - loss: 0.2181 - accuracy: 0.9184 - val_loss: 0.2553 - val_accuracy: 0.9087\n",
      "Epoch 5/6\n",
      "480/480 [==============================] - 3s 7ms/step - loss: 0.1820 - accuracy: 0.9324 - val_loss: 0.2603 - val_accuracy: 0.9076\n",
      "Epoch 6/6\n",
      "480/480 [==============================] - 3s 5ms/step - loss: 0.1499 - accuracy: 0.9436 - val_loss: 0.2553 - val_accuracy: 0.9128\n",
      "Model summary from second_fashion_model.summary()\n",
      "Model: \"sequential_1\"\n",
      "_________________________________________________________________\n",
      "Layer (type)                 Output Shape              Param #   \n",
      "=================================================================\n",
      "conv2d_3 (Conv2D)            (None, 26, 26, 20)        200       \n",
      "_________________________________________________________________\n",
      "conv2d_4 (Conv2D)            (None, 24, 24, 20)        3620      \n",
      "_________________________________________________________________\n",
      "conv2d_5 (Conv2D)            (None, 22, 22, 20)        3620      \n",
      "_________________________________________________________________\n",
      "flatten_1 (Flatten)          (None, 9680)              0         \n",
      "_________________________________________________________________\n",
      "dense_2 (Dense)              (None, 100)               968100    \n",
      "_________________________________________________________________\n",
      "dense_3 (Dense)              (None, 100)               10100     \n",
      "_________________________________________________________________\n",
      "dense_4 (Dense)              (None, 10)                1010      \n",
      "=================================================================\n",
      "Total params: 986,650\n",
      "Trainable params: 986,650\n",
      "Non-trainable params: 0\n",
      "_________________________________________________________________\n",
      "None\n"
     ]
    },
    {
     "data": {
      "application/javascript": [
       "parent.postMessage({\"jupyterEvent\": \"custom.exercise_interaction\", \"data\": {\"outcomeType\": 1, \"valueTowardsCompletion\": 0.16666666666666666, \"interactionType\": 1, \"questionType\": 2, \"questionId\": \"6_CreateNewDLModelFromScratch\", \"learnToolsVersion\": \"0.3.4\", \"failureMessage\": \"\", \"exceptionClass\": \"\", \"trace\": \"\"}}, \"*\")"
      ],
      "text/plain": [
       "<IPython.core.display.Javascript object>"
      ]
     },
     "metadata": {},
     "output_type": "display_data"
    },
    {
     "data": {
      "text/markdown": [
       "<span style=\"color:#33cc33\">Correct</span>"
      ],
      "text/plain": [
       "Correct"
      ]
     },
     "metadata": {},
     "output_type": "display_data"
    }
   ],
   "source": [
    "# Your code below\n",
    "second_fashion_model = Sequential()\n",
    "second_fashion_model.add(Conv2D(20, kernel_size=(3, 3),\n",
    "                 activation='relu',\n",
    "                 input_shape=(img_rows, img_cols, 1)))\n",
    "second_fashion_model.add(Conv2D(20, kernel_size=(3, 3), activation='relu'))\n",
    "second_fashion_model.add(Conv2D(20, kernel_size=(3, 3), activation='relu'))\n",
    "second_fashion_model.add(Flatten())\n",
    "second_fashion_model.add(Dense(100, activation='relu'))\n",
    "second_fashion_model.add(Dense(100, activation='relu'))\n",
    "second_fashion_model.add(Dense(num_classes, activation='softmax'))\n",
    "\n",
    "second_fashion_model.compile(loss=keras.losses.categorical_crossentropy,\n",
    "              optimizer='adam',\n",
    "              metrics=['accuracy'])\n",
    "second_fashion_model.fit(x, y,\n",
    "          batch_size=100,\n",
    "          epochs=6,\n",
    "          validation_split = 0.2)\n",
    "\n",
    "\n",
    "# Don't remove this line (ensures comptibility with tensorflow 2.0)\n",
    "second_fashion_model.history.history['val_acc'] = second_fashion_model.history.history['val_accuracy']\n",
    "# Check your answer\n",
    "q_6.check()"
   ]
  },
  {
   "cell_type": "code",
   "execution_count": 13,
   "metadata": {
    "execution": {
     "iopub.execute_input": "2020-08-20T10:37:57.226147Z",
     "iopub.status.busy": "2020-08-20T10:37:57.224888Z",
     "iopub.status.idle": "2020-08-20T10:37:57.228129Z",
     "shell.execute_reply": "2020-08-20T10:37:57.227208Z"
    },
    "papermill": {
     "duration": 0.069127,
     "end_time": "2020-08-20T10:37:57.228306",
     "exception": false,
     "start_time": "2020-08-20T10:37:57.159179",
     "status": "completed"
    },
    "tags": []
   },
   "outputs": [],
   "source": [
    "#q_6.solution()"
   ]
  },
  {
   "cell_type": "markdown",
   "execution_count": null,
   "metadata": {
    "papermill": {
     "duration": 0.054634,
     "end_time": "2020-08-20T10:37:57.338809",
     "exception": false,
     "start_time": "2020-08-20T10:37:57.284175",
     "status": "completed"
    },
    "tags": []
   },
   "source": [
    "# Keep Going\n",
    "You are ready to learn about **[strides and dropout](https://www.kaggle.com/dansbecker/dropout-and-strides-for-larger-models)**, which become important as you start using bigger and more powerful models.\n"
   ]
  },
  {
   "cell_type": "markdown",
   "execution_count": null,
   "metadata": {
    "papermill": {
     "duration": 0.054202,
     "end_time": "2020-08-20T10:37:57.449116",
     "exception": false,
     "start_time": "2020-08-20T10:37:57.394914",
     "status": "completed"
    },
    "tags": []
   },
   "source": [
    "---\n",
    "**[Deep Learning Home Page](https://www.kaggle.com/learn/deep-learning)**\n",
    "\n",
    "\n",
    "\n",
    "\n",
    "\n",
    "*Have questions or comments? Visit the [Learn Discussion forum](https://www.kaggle.com/learn-forum) to chat with other Learners.*"
   ]
  }
 ],
 "metadata": {
  "kernelspec": {
   "display_name": "Python 3",
   "language": "python",
   "name": "python3"
  },
  "language_info": {
   "codemirror_mode": {
    "name": "ipython",
    "version": 3
   },
   "file_extension": ".py",
   "mimetype": "text/x-python",
   "name": "python",
   "nbconvert_exporter": "python",
   "pygments_lexer": "ipython3",
   "version": "3.7.6"
  },
  "papermill": {
   "duration": 91.063367,
   "end_time": "2020-08-20T10:37:59.343319",
   "environment_variables": {},
   "exception": null,
   "input_path": "__notebook__.ipynb",
   "output_path": "__notebook__.ipynb",
   "parameters": {},
   "start_time": "2020-08-20T10:36:28.279952",
   "version": "2.1.0"
  }
 },
 "nbformat": 4,
 "nbformat_minor": 4
}
